{
 "cells": [
  {
   "cell_type": "code",
   "execution_count": 42,
   "metadata": {},
   "outputs": [
    {
     "name": "stdout",
     "output_type": "stream",
     "text": [
      "Sequence 1:\n",
      "GTGAAGGCTGAGAGGTGGCGGGAACCCCACTTCAGAGGCGATCTCCCCGCACACAAAAACCACCCCTGAGTAAGAGCAAAAGGCACTTCACAAACCGCAACCATGAATGGGACAGAAGGCCAGGACTTCTACGTGCCCATGTCCAACAAGACCGGGGTGGTGCGGAGCCCCTTCGAGTACCCCCAGTACTACCTGGCTGAGCCCTGGAAGTTCTCGGCGCTGGCTGCCTACATGTTCATGCTGATCCTGCTCGGCTTCCCCATCAACTTCCTCACGCTGTACGTTACCATCCAGCACAAGAAGCTCCGGACGCCTCTAAATTATATCCTTCTGAACCTGGCGGTCGCCAACCTCTTCATGGTCTTTGGAGGCTTCACGACCACCATGTACACTTCAATGAACGGGTATTTTGTCTTTGGAGTAACAGGGTGCTACATTGAAGGCTTCTTTGCTACACTGGGCGGTGAAATTGCTCTCTGGTCGCTGGTTGTCCTGGCTGTTGAAAGATACGTAGTGGTCTGCAAGCCCATGAGCAACTTCCGCTTCGGGGAGAACCATGCCATCATGGGCGTTGCCTTCTCCTGGATCATGGCCTTCGCGTGTGCAGGCCCTCCGCTGTTTGGCTGGTCCAGGTACATCCCCGAGGGCATGCAGTGCTCGTGCGGGATCGACTATTACACTCTGAAGCCAGAGATCAACAACGAGTCTTTCGTCGTCTACATGTTTGTGGTTCACTTCATGATCCCGCTGATGGTCATTTTCTTCTGCTATGGGAACCTGGTTTGCACTGTCAAGGAGGCTGCTGCCCAGCAGCAGGAGTCTGCCACCACCCAGAAGGCAGAGAAAGAAGTGACCCGCATGGTCGTCATCATGGTCATCGCCTTCCTGATCTGCTGGGTCCCCTACGCCAGCGTTGCTTTCTACATCTTCACCAACCAGGGGTCGGACTTCGGGCCCATCTTCATGACCATCCCGGCTTTCTTTGCCAAGAGCTCCGCCATCTACAACCCTGTGATCTACATCGTAATGAACAAACAGTTCCGTAACTGCATGATCACAACCCTCTGCTGCGGCAAGAACCCGCTGGGCGACGAGGACACGTCTGCTGGCAAGACAGAGACCTCCTCCGTCTCCACCAGCCAGGTCTCTCCCGCGTAGGCCCCGCCGGAGCGGCCGGTGCGCGTTGCCGCCCCGGGAACATGAACCTAGCCCCGCCGCCGCCGCCTGCCCCGCTTCACCACCGCCACGGCCCCGCGGGGCGGGCTCTTCTCTCCTGGTACTAGGAACCCTGGGAACAAGGCTGTAAATGTGTACACACGTTTTGTAATTAAAATGCAAAGGCTTAGCTCCTCTG \n",
      "\n",
      "Length: 1354\n",
      "GC Content: 56.72%\n",
      "A count: 279\n",
      "T count: 307\n",
      "G count: 345\n",
      "C count: 423\n",
      "\n"
     ]
    },
    {
     "data": {
      "text/html": [
       "<div>\n",
       "<style scoped>\n",
       "    .dataframe tbody tr th:only-of-type {\n",
       "        vertical-align: middle;\n",
       "    }\n",
       "\n",
       "    .dataframe tbody tr th {\n",
       "        vertical-align: top;\n",
       "    }\n",
       "\n",
       "    .dataframe thead th {\n",
       "        text-align: right;\n",
       "    }\n",
       "</style>\n",
       "<table border=\"1\" class=\"dataframe\">\n",
       "  <thead>\n",
       "    <tr style=\"text-align: right;\">\n",
       "      <th></th>\n",
       "      <th>Nucleotide</th>\n",
       "      <th>Frequency</th>\n",
       "    </tr>\n",
       "  </thead>\n",
       "  <tbody>\n",
       "    <tr>\n",
       "      <th>0</th>\n",
       "      <td>A</td>\n",
       "      <td>279</td>\n",
       "    </tr>\n",
       "    <tr>\n",
       "      <th>1</th>\n",
       "      <td>T</td>\n",
       "      <td>307</td>\n",
       "    </tr>\n",
       "    <tr>\n",
       "      <th>2</th>\n",
       "      <td>C</td>\n",
       "      <td>345</td>\n",
       "    </tr>\n",
       "    <tr>\n",
       "      <th>3</th>\n",
       "      <td>G</td>\n",
       "      <td>423</td>\n",
       "    </tr>\n",
       "  </tbody>\n",
       "</table>\n",
       "</div>"
      ],
      "text/plain": [
       "  Nucleotide  Frequency\n",
       "0          A        279\n",
       "1          T        307\n",
       "2          C        345\n",
       "3          G        423"
      ]
     },
     "metadata": {},
     "output_type": "display_data"
    },
    {
     "name": "stdout",
     "output_type": "stream",
     "text": [
      "Sequence 1:\n",
      "CCTGGAGCTTACCCCAGGGGGCACTTTATAAAGGGCGCCCTGCAGAGGTGAGTGTAGCCACTTCTTGGGGTGACGGCGAAGGCTGAGAGGTGGCGGGAGCCCCACTTCAGAAGCGATCCCCCCGCACTCCAAAGAAACCCCTGAGTAAGAGCAAAAGGCACCTCACAAACCGCAACCATGAATGGAACAGAAGGCCAAGACTTCTACATACCCATGTCCAACAAGACCGGGGTGGTGCGGAGCCCCTTCGAGTACCCCCAGTACTACCTGGCTGAGCCCTGGAAGTTCTCGGCGCTGGCTGCCTACATGTTCATGCTGATCCTGCTCGGCTTCCCCATCAACTTCCTCACGCTGTACGTCACCATCCAGCACAAGAAGCTCCGGACGCCTCTAAACTACATCCTTCTGAACCTGGCGGTCGCTGACCTCTTCATGGTCTTAGGAGGCTTCACGACCACCATGTACACTTCGATGAACGGGTACTTTGTCTTTGGAGTAACAGGGTGCTACATCGAAGGCTTCTCTGCTACACTGGGCGGTGAAATTGCTCTCTGGTCCCTGGTGGTCCTGGCTATCGAAAGATACATAGTGGTCTGCAAGCCCATGAGCAACTTCCGCTTCGGGGAGAACCACGCCATCATGGGCGTTGCCTTCACCTGGATCATGGCCTTGGCCTGCGCGGCTCCCCCGCTCTTCGGCTGGTCCAGGTACATCCCCGAGGGCATGCAGTGCTCGTGTGGAATTGACTACTACACGCTGAAGCCAGAGATCAACAACGAATCTTTTGTCATCTACATGTTCGTGGTTCACTTCATGATCCCGCTGACAGTCATTTTCTTCTGCTATGGGAACCTGGTTTGCACCGTCAAGGAGGCCGCTGCCCAGCAGCAGGAGTCTGCCACCACCCAGAAGGCCGAGAAGGAAGTGACCCGCATGGTCATCATCATGGTCGTCGCCTTCCTGATTTGCTGGGTCCCCTACGCCAGCGTCGCTTTCTACATCTTCACCAACCAGGGCTCAGACTTCGGGCCCATCTTCATGACCATCCCGGCATTCTTTGCCAAGAGCTCTTCCATCTACAACCCCGTGATTTACATCGTCATGAACAAACAGTTCCGTAACTGCATGATCACAACCCTCTGCTGCGGCAAGAACCCGCTGGGTGACGAGGACACGTCCGCTGGCAAGACAGAGACCTCCTCCGTCTTCACCTCCCAGCCACACACTCGGGTTGTACCAGTGAAGGCATAACCCCGCC \n",
      "\n",
      "Length: 1258\n",
      "GC Content: 56.28%\n",
      "A count: 274\n",
      "T count: 276\n",
      "G count: 311\n",
      "C count: 397\n",
      "\n"
     ]
    },
    {
     "data": {
      "text/html": [
       "<div>\n",
       "<style scoped>\n",
       "    .dataframe tbody tr th:only-of-type {\n",
       "        vertical-align: middle;\n",
       "    }\n",
       "\n",
       "    .dataframe tbody tr th {\n",
       "        vertical-align: top;\n",
       "    }\n",
       "\n",
       "    .dataframe thead th {\n",
       "        text-align: right;\n",
       "    }\n",
       "</style>\n",
       "<table border=\"1\" class=\"dataframe\">\n",
       "  <thead>\n",
       "    <tr style=\"text-align: right;\">\n",
       "      <th></th>\n",
       "      <th>Nucleotide</th>\n",
       "      <th>Frequency</th>\n",
       "    </tr>\n",
       "  </thead>\n",
       "  <tbody>\n",
       "    <tr>\n",
       "      <th>0</th>\n",
       "      <td>A</td>\n",
       "      <td>274</td>\n",
       "    </tr>\n",
       "    <tr>\n",
       "      <th>1</th>\n",
       "      <td>T</td>\n",
       "      <td>276</td>\n",
       "    </tr>\n",
       "    <tr>\n",
       "      <th>2</th>\n",
       "      <td>C</td>\n",
       "      <td>311</td>\n",
       "    </tr>\n",
       "    <tr>\n",
       "      <th>3</th>\n",
       "      <td>G</td>\n",
       "      <td>397</td>\n",
       "    </tr>\n",
       "  </tbody>\n",
       "</table>\n",
       "</div>"
      ],
      "text/plain": [
       "  Nucleotide  Frequency\n",
       "0          A        274\n",
       "1          T        276\n",
       "2          C        311\n",
       "3          G        397"
      ]
     },
     "metadata": {},
     "output_type": "display_data"
    },
    {
     "data": {
      "image/png": "[encoded data removed]",
      "text/plain": [
       "<Figure size 432x288 with 1 Axes>"
      ]
     },
     "metadata": {
      "needs_background": "light"
     },
     "output_type": "display_data"
    },
    {
     "data": {
      "image/png": "[encoded data removed]",
      "text/plain": [
       "<Figure size 432x288 with 1 Axes>"
      ]
     },
     "metadata": {
      "needs_background": "light"
     },
     "output_type": "display_data"
    }
   ],
   "source": [
    "from Bio import Align\n",
    "from Bio import SeqIO\n",
    "from Bio import pairwise2\n",
    "from Bio.pairwise2 import format_alignment\n",
    "import pandas as pd \n",
    "\n",
    "\n",
    "# Function read sequences from a file as a string and initializes \n",
    "# two seperate string variables to compare \n",
    "def import_seq():\n",
    "    global seq1_eagle\n",
    "    seq1_eagle = SeqIO.read(\"gene_nuccore_refseqrna_RHO_GOLDEN_EAGLE.fasta\", \"fasta\")\n",
    "    global seq2_owl \n",
    "    seq2_owl = SeqIO.read(\"gene_nuccore_refseqrna_RHO_BURROWING_OWL.fasta\", \"fasta\")\n",
    "\n",
    "# Function that finds the GC content of a DNA sequence \n",
    "# assuming the seq passed in is without flaws (no extra spaces or error base pairs)\n",
    "def find_gc_content(dna_seq):\n",
    "      g_count = dna_seq.count(\"G\")\n",
    "      c_count = dna_seq.count(\"C\")\n",
    "      answer = ((g_count + c_count)/len(dna_seq)) * 100\n",
    "      \n",
    "      return round(answer, 2)\n",
    "  \n",
    "# TO-DO\n",
    "# Function that initalized the 2D array that will hold the 'scores' for the \n",
    "# Needleman-Wunsch algorithm \n",
    "def init_matrix(seq_1, seq_2): \n",
    "    matrix = []\n",
    "\n",
    "# Function uses Biopython lilbrary  to find alignment between two nucleotide sequences. \n",
    "def find_gaps(seq1, seq2): \n",
    "    alignments = pairwise2.align.globalxx(seq1, seq2)\n",
    "    print(format_alignment(*alignments[0]))\n",
    "    \n",
    "        \n",
    "        \n",
    "# Print basic comparing information about sequences \n",
    "def print_basic_info(seq, name): \n",
    "    seq_length = len(seq)\n",
    "    gc_content = find_gc_content(seq)\n",
    "    a_count = seq.count(\"A\")\n",
    "    t_count = seq.count(\"T\")\n",
    "    g_count = seq.count(\"G\")\n",
    "    c_count = seq.count(\"C\")\n",
    "    \n",
    "    print(\"Sequence 1:\\n\"+ seq, \"\\n\\n\" +\n",
    "      \"Length:\", str(seq_length) + \"\\n\" + \n",
    "      \"GC Content:\", str(gc_content) + \"%\" + \"\\n\" + \n",
    "      \"A count:\", str(a_count) +\"\\n\" + \n",
    "      \"T count:\", str(t_count) + \"\\n\" +\n",
    "      \"G count:\", str(g_count) + \"\\n\" + \n",
    "      \"C count:\", str(c_count) + \"\\n\")  \n",
    "    \n",
    "    display_counts_graph(a_count, t_count, g_count, c_count, name)\n",
    "    \n",
    "def display_counts_graph(a, t, g, c, name):\n",
    "    title = str(\"Nucleotide Occurences in \"+name)\n",
    "    name = str(name+\".png\")\n",
    "    data = pd.DataFrame({\"Nucleotide\": [\"A\", \"T\", \"C\", \"G\"], \n",
    "                        \"Frequency\": [a, t, g, c]})\n",
    "    display(data)\n",
    "    df = data.plot.bar(x = \"Nucleotide\", y = \"Frequency\", rot = 0, title = title, legend = False )\n",
    "    table_fig = df.get_figure()\n",
    "    table_fig.savefig(name)\n",
    "\n",
    "             \n",
    "def main(): \n",
    "    global seq1_eagle\n",
    "    global seq2_owl\n",
    "    \n",
    "    import_seq() \n",
    "    print_basic_info(seq1_eagle.seq, \"Golden Eagle\")\n",
    "    print_basic_info(seq2_owl.seq, \"Burrowing Owl\")\n",
    "    \n",
    "    #print(\"Markers where the sequences match up:\")\n",
    "    #find_gaps(seq1_eagle.seq, seq2_owl.seq)\n",
    "\n",
    "if __name__ == '__main__':\n",
    "    main()\n"
   ]
  },
  {
   "cell_type": "code",
   "execution_count": null,
   "metadata": {},
   "outputs": [],
   "source": []
  },
  {
   "cell_type": "code",
   "execution_count": null,
   "metadata": {},
   "outputs": [],
   "source": []
  }
 ],
 "metadata": {
  "kernelspec": {
   "display_name": "Python 3",
   "language": "python",
   "name": "python3"
  },
  "language_info": {
   "codemirror_mode": {
    "name": "ipython",
    "version": 3
   },
   "file_extension": ".py",
   "mimetype": "text/x-python",
   "name": "python",
   "nbconvert_exporter": "python",
   "pygments_lexer": "ipython3",
   "version": "3.7.1"
  }
 },
 "nbformat": 4,
 "nbformat_minor": 2
}
