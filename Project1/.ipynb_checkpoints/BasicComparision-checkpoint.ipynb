{
 "cells": [
  {
   "cell_type": "code",
   "execution_count": 24,
   "metadata": {},
   "outputs": [
    {
     "name": "stdout",
     "output_type": "stream",
     "text": [
      "Sequence 1: AGTAAGGCCCGGCTA \n",
      "Length: 15\n",
      "GC Content: 60.0%\n",
      "A count: 4\n",
      "T count: 2\n",
      "G count: 5\n",
      "C count: 4\n",
      "\n",
      "Sequence 2: TTTTTGGGCCGGGA \n",
      "Length: 14\n",
      "GC Content: 57.14%\n",
      "A count: 1\n",
      "T count: 5\n",
      "G count: 6\n",
      "C count: 2\n",
      "\n"
     ]
    }
   ],
   "source": [
    "import numpy as np\n",
    "\n",
    "# Function that finds the GC content of a DNA sequence \n",
    "# assuming the seq passed in is without flaws (no extra spaces or error base pairs)\n",
    "def find_gc_content(dna_seq):\n",
    "      g_count = dna_seq.count(\"G\")\n",
    "      c_count = dna_seq.count(\"C\")\n",
    "      answer = ((g_count + c_count)/len(dna_seq)) * 100\n",
    "      \n",
    "      return round(answer, 2)\n",
    "# Function that inili\n",
    "def init_matrix(seq_1, seq_2): \n",
    "    matrix = [[seq_1]]\n",
    "\n",
    "# Sequences to Compare \n",
    "seq_1 = \"AGTAAGGCCCGGCTA\"\n",
    "seq_2 = \"TTTTTGGGCCGGGA\"\n",
    "\n",
    "# Print basic comparing information about sequences \n",
    "print(\"Sequence 1:\", seq_1, \"\\n\" + \"Length:\", str(len(seq_1)) + \"\\n\" + \"GC Content:\", str(find_gc_content(seq_1)) \n",
    "      + \"%\" + \"\\n\" + \"A count:\", str(seq_1.count(\"A\")) +\"\\n\" + \"T count:\", str(seq_1.count(\"T\")) + \"\\n\" +\n",
    "      \"G count:\", str(seq_1.count(\"G\")) + \"\\n\" + \"C count:\", str(seq_1.count(\"C\")) + \"\\n\")\n",
    "\n",
    "print(\"Sequence 2:\", seq_2, \"\\n\" + \"Length:\", str(len(seq_2)) + \"\\n\" + \"GC Content:\", str(find_gc_content(seq_2)) \n",
    "      + \"%\" + \"\\n\" + \"A count:\", str(seq_2.count(\"A\")) +\"\\n\" + \"T count:\", str(seq_2.count(\"T\")) + \"\\n\" +\n",
    "      \"G count:\", str(seq_2.count(\"G\")) + \"\\n\" + \"C count:\", str(seq_2.count(\"C\")) + \"\\n\")\n",
    "       \n",
    "      \n",
    "\n",
    "\n"
   ]
  },
  {
   "cell_type": "code",
   "execution_count": null,
   "metadata": {},
   "outputs": [],
   "source": []
  }
 ],
 "metadata": {
  "kernelspec": {
   "display_name": "Python 3",
   "language": "python",
   "name": "python3"
  },
  "language_info": {
   "codemirror_mode": {
    "name": "ipython",
    "version": 3
   },
   "file_extension": ".py",
   "mimetype": "text/x-python",
   "name": "python",
   "nbconvert_exporter": "python",
   "pygments_lexer": "ipython3",
   "version": "3.7.1"
  }
 },
 "nbformat": 4,
 "nbformat_minor": 2
}
